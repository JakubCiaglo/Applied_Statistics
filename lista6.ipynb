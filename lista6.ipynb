{
 "cells": [
  {
   "cell_type": "markdown",
   "metadata": {},
   "source": [
    "# Importy"
   ]
  },
  {
   "cell_type": "code",
   "execution_count": 1,
   "metadata": {},
   "outputs": [],
   "source": [
    "import numpy as np\n",
    "import scipy.stats as s"
   ]
  },
  {
   "cell_type": "markdown",
   "metadata": {},
   "source": [
    "___\n",
    "# Zadanie 1"
   ]
  },
  {
   "cell_type": "code",
   "execution_count": null,
   "metadata": {},
   "outputs": [
    {
     "name": "stdout",
     "output_type": "stream",
     "text": [
      "[227.13270097107676, 235.52729902892327]\n",
      "[90.63605629373379, 15.777372262773723]\n"
     ]
    }
   ],
   "source": [
    "srednia = 231.33\n",
    "wariancja = 31.44\n",
    "n = 12\n",
    "kwantyl_t = 2.5931\n",
    "kwantyl_chi_1 = 3.8157\n",
    "kwantyl_chi_2 = 21.92\n",
    "\n",
    "\n",
    "a = srednia - (kwantyl_t * np.sqrt(wariancja)/np.sqrt(n))\n",
    "b = srednia + (kwantyl_t * np.sqrt(wariancja)/np.sqrt(n))\n",
    "\n",
    "c = ((n-1)*wariancja )/ kwantyl_chi_1\n",
    "d = ((n-1)*wariancja )/ kwantyl_chi_2\n",
    "\n",
    "print([a,b])\n",
    "print([c,d])"
   ]
  },
  {
   "cell_type": "markdown",
   "metadata": {},
   "source": [
    "___\n",
    "# Zadanie 2"
   ]
  },
  {
   "cell_type": "code",
   "execution_count": 2,
   "metadata": {},
   "outputs": [
    {
     "name": "stdout",
     "output_type": "stream",
     "text": [
      "Rozmiar próby n=20:\n",
      "  Znane sigma: 0.983\n",
      "  Nieznane sigma: 0.982\n",
      "Rozmiar próby n=50:\n",
      "  Znane sigma: 0.985\n",
      "  Nieznane sigma: 0.984\n",
      "Rozmiar próby n=100:\n",
      "  Znane sigma: 0.973\n",
      "  Nieznane sigma: 0.977\n"
     ]
    }
   ],
   "source": [
    "mu = 2.1\n",
    "sigma = 0.2\n",
    "alfa = 0.02\n",
    "n_wartosci = [20, 50, 100]\n",
    "MC = 1000\n",
    "kwantyl_z = s.norm.ppf(1 - alfa / 2)\n",
    "\n",
    "wyniki = {}\n",
    "for n in n_wartosci:\n",
    "    licznik_znane = 0\n",
    "    licznik_nieznane = 0\n",
    "\n",
    "    for _ in range(MC):\n",
    "        probka = np.random.normal(mu, sigma, n)\n",
    "        srednia_probki = np.mean(probka)\n",
    "        wariancja_probki = np.var(probka, ddof=1)\n",
    "        odchylenie_probki = np.std(probka, ddof=1)\n",
    "\n",
    "        margines_bledu_znane = kwantyl_z * (sigma / np.sqrt(n))\n",
    "        ci_dolne_znane = srednia_probki - margines_bledu_znane\n",
    "        ci_gorne_znane = srednia_probki + margines_bledu_znane\n",
    "\n",
    "        if ci_dolne_znane <= mu <= ci_gorne_znane:\n",
    "            licznik_znane += 1\n",
    "\n",
    "        kwantyl_t = s.t.ppf(1 - alfa / 2, df=n-1)\n",
    "        margines_bledu_nieznane = kwantyl_t * (odchylenie_probki / np.sqrt(n))\n",
    "        ci_dolne_nieznane = srednia_probki - margines_bledu_nieznane\n",
    "        ci_gorne_nieznane = srednia_probki + margines_bledu_nieznane\n",
    "\n",
    "        if ci_dolne_nieznane <= mu <= ci_gorne_nieznane:\n",
    "            licznik_nieznane += 1\n",
    "\n",
    "    wyniki[n] = {\n",
    "        \"znane_sigma\": licznik_znane / MC,\n",
    "        \"nieznane_sigma\": licznik_nieznane / MC\n",
    "    }\n",
    "\n",
    "for n, wynik in wyniki.items():\n",
    "    print(f\"Rozmiar próby n={n}:\")\n",
    "    print(f\"  Znane sigma: {wynik['znane_sigma']}\")\n",
    "    print(f\"  Nieznane sigma: {wynik['nieznane_sigma']}\")"
   ]
  },
  {
   "cell_type": "markdown",
   "metadata": {},
   "source": [
    "___\n",
    "# Zadanie 3"
   ]
  },
  {
   "cell_type": "code",
   "execution_count": null,
   "metadata": {},
   "outputs": [
    {
     "name": "stdout",
     "output_type": "stream",
     "text": [
      "[-8.915541484537968, 8.62367236218805]\n"
     ]
    }
   ],
   "source": [
    "alfa = 0.05\n",
    "sigma_2 = 20\n",
    "x = open('dane_1.txt')\n",
    "dane = [float(i) for i in x.read().split()]\n",
    "\n",
    "n = len(dane)\n",
    "kwantyl_Z = s.norm.ppf(1 - (alfa / 2))\n",
    "\n",
    "\n",
    "low = -kwantyl_Z * np.sqrt(sigma_2) * (np.sqrt((n+1)/n)) + np.sum(dane)/n\n",
    "high = kwantyl_Z * np.sqrt(sigma_2) * (np.sqrt((n+1)/n)) + np.sum(dane)/n\n",
    "\n",
    "print([low,high])"
   ]
  },
  {
   "cell_type": "markdown",
   "metadata": {},
   "source": [
    "___\n",
    "# Zadanie 4"
   ]
  },
  {
   "cell_type": "code",
   "execution_count": null,
   "metadata": {},
   "outputs": [
    {
     "name": "stdout",
     "output_type": "stream",
     "text": [
      "dla średniej  [-0.4230257620817759, 0.13115663973185598]\n",
      "dla wariancji [18.29947054809949, 21.809608305332162]\n"
     ]
    }
   ],
   "source": [
    "alfa = 0.05\n",
    "\n",
    "x = open('dane_2.txt')\n",
    "dane = [float(i) for i in x.read().split()]\n",
    "n = len(dane)\n",
    "\n",
    "kwantyl_t = s.t.ppf(1- (alfa/2), df = n-1)\n",
    "kwantyl_chi_low = s.chi2.ppf(1- (alfa/2), df=n-1)\n",
    "kwantyl_chi_high = s.chi2.ppf(alfa/2, df=n-1)\n",
    "\n",
    "srednia = np.mean(dane)\n",
    "s_estymowane = np.std(dane)\n",
    "s_2_estymowane = np.var(dane)\n",
    "\n",
    "low = (n-1)*s_2_estymowane/kwantyl_chi_low\n",
    "high = (n-1)*s_2_estymowane/kwantyl_chi_high\n",
    "\n",
    "przedzial_2 = [srednia - kwantyl_t * (s_estymowane/(np.sqrt(n))), srednia + kwantyl_t * (s_estymowane/(np.sqrt(n)))]\n",
    "przedzial_3 = [low,high]\n",
    "\n",
    "print('dla średniej ', przedzial_2)\n",
    "print('dla wariancji', przedzial_3)"
   ]
  }
 ],
 "metadata": {
  "kernelspec": {
   "display_name": "Python 3",
   "language": "python",
   "name": "python3"
  },
  "language_info": {
   "codemirror_mode": {
    "name": "ipython",
    "version": 3
   },
   "file_extension": ".py",
   "mimetype": "text/x-python",
   "name": "python",
   "nbconvert_exporter": "python",
   "pygments_lexer": "ipython3",
   "version": "3.13.2"
  },
  "orig_nbformat": 4
 },
 "nbformat": 4,
 "nbformat_minor": 2
}
